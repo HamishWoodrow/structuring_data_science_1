{
 "cells": [
  {
   "cell_type": "code",
   "execution_count": 1,
   "metadata": {
    "collapsed": true
   },
   "outputs": [],
   "source": [
    "import urllib\n",
    "from bs4 import BeautifulSoup\n",
    "import re\n",
    "import requests\n",
    "from selenium import webdriver\n",
    "from selenium.webdriver.common.keys import Keys\n",
    "import time\n",
    "import pandas as pd\n",
    "import os\n",
    "import json\n",
    "import numpy as np"
   ]
  },
  {
   "cell_type": "code",
   "execution_count": 2,
   "metadata": {},
   "outputs": [
    {
     "data": {
      "text/plain": [
       "5"
      ]
     },
     "execution_count": 2,
     "metadata": {},
     "output_type": "execute_result"
    }
   ],
   "source": [
    "np.random.randint(1,10,1)[0]"
   ]
  },
  {
   "cell_type": "code",
   "execution_count": 3,
   "metadata": {},
   "outputs": [
    {
     "ename": "NameError",
     "evalue": "name 'driver' is not defined",
     "output_type": "error",
     "traceback": [
      "\u001b[0;31m---------------------------------------------------------------------------\u001b[0m",
      "\u001b[0;31mNameError\u001b[0m                                 Traceback (most recent call last)",
      "\u001b[0;32m<ipython-input-3-03ee6f10f25a>\u001b[0m in \u001b[0;36m<module>\u001b[0;34m()\u001b[0m\n\u001b[1;32m      1\u001b[0m \u001b[0;31m#Click on more button\u001b[0m\u001b[0;34m\u001b[0m\u001b[0;34m\u001b[0m\u001b[0m\n\u001b[1;32m      2\u001b[0m \u001b[0mxpath_more\u001b[0m\u001b[0;34m=\u001b[0m\u001b[0;34m\"//div[contains(@class,'yt-uix-menu')]\"\u001b[0m\u001b[0;34m\u001b[0m\u001b[0m\n\u001b[0;32m----> 3\u001b[0;31m \u001b[0mmore_button\u001b[0m\u001b[0;34m=\u001b[0m\u001b[0mdriver\u001b[0m\u001b[0;34m.\u001b[0m\u001b[0mfind_elements_by_xpath\u001b[0m\u001b[0;34m(\u001b[0m\u001b[0mxpath_more\u001b[0m\u001b[0;34m)\u001b[0m\u001b[0;34m\u001b[0m\u001b[0m\n\u001b[0m\u001b[1;32m      4\u001b[0m \u001b[0mmore_button\u001b[0m\u001b[0;34m[\u001b[0m\u001b[0;36m0\u001b[0m\u001b[0;34m]\u001b[0m\u001b[0;34m.\u001b[0m\u001b[0mtext\u001b[0m\u001b[0;34m\u001b[0m\u001b[0m\n",
      "\u001b[0;31mNameError\u001b[0m: name 'driver' is not defined"
     ]
    }
   ],
   "source": [
    "#Click on more button\n",
    "xpath_more=\"//div[contains(@class,'yt-uix-menu')]\"\n",
    "more_button=driver.find_elements_by_xpath(xpath_more)\n",
    "more_button[0].text\n"
   ]
  },
  {
   "cell_type": "code",
   "execution_count": 4,
   "metadata": {},
   "outputs": [
    {
     "ename": "NameError",
     "evalue": "name 'driver' is not defined",
     "output_type": "error",
     "traceback": [
      "\u001b[0;31m---------------------------------------------------------------------------\u001b[0m",
      "\u001b[0;31mNameError\u001b[0m                                 Traceback (most recent call last)",
      "\u001b[0;32m<ipython-input-4-e8c0f7ca2c00>\u001b[0m in \u001b[0;36m<module>\u001b[0;34m()\u001b[0m\n\u001b[1;32m      1\u001b[0m \u001b[0mxpath_transcript\u001b[0m\u001b[0;34m=\u001b[0m\u001b[0;34m\"//span[contains(@class,'yt-ui-menu-item-label')]\"\u001b[0m\u001b[0;34m\u001b[0m\u001b[0m\n\u001b[0;32m----> 2\u001b[0;31m \u001b[0mtranscript_button\u001b[0m\u001b[0;34m=\u001b[0m\u001b[0mdriver\u001b[0m\u001b[0;34m.\u001b[0m\u001b[0mfind_elements_by_xpath\u001b[0m\u001b[0;34m(\u001b[0m\u001b[0mxpath_transcript\u001b[0m\u001b[0;34m)\u001b[0m\u001b[0;34m\u001b[0m\u001b[0m\n\u001b[0m\u001b[1;32m      3\u001b[0m \u001b[0mtranscript_button\u001b[0m\u001b[0;34m[\u001b[0m\u001b[0;34m-\u001b[0m\u001b[0;36m3\u001b[0m\u001b[0;34m]\u001b[0m\u001b[0;34m.\u001b[0m\u001b[0mtext\u001b[0m\u001b[0;34m\u001b[0m\u001b[0m\n",
      "\u001b[0;31mNameError\u001b[0m: name 'driver' is not defined"
     ]
    }
   ],
   "source": [
    "xpath_transcript=\"//span[contains(@class,'yt-ui-menu-item-label')]\"\n",
    "transcript_button=driver.find_elements_by_xpath(xpath_transcript)\n",
    "transcript_button[-3].text"
   ]
  },
  {
   "cell_type": "code",
   "execution_count": 5,
   "metadata": {},
   "outputs": [
    {
     "ename": "NameError",
     "evalue": "name 'driver' is not defined",
     "output_type": "error",
     "traceback": [
      "\u001b[0;31m---------------------------------------------------------------------------\u001b[0m",
      "\u001b[0;31mNameError\u001b[0m                                 Traceback (most recent call last)",
      "\u001b[0;32m<ipython-input-5-9d34f70f26a5>\u001b[0m in \u001b[0;36m<module>\u001b[0;34m()\u001b[0m\n\u001b[1;32m      1\u001b[0m \u001b[0mxpath_language\u001b[0m\u001b[0;34m=\u001b[0m\u001b[0;34m\"//div[contains(@class,'yt-uix-menu-trigger')]\"\u001b[0m\u001b[0;34m\u001b[0m\u001b[0m\n\u001b[0;32m----> 2\u001b[0;31m \u001b[0mlang_button\u001b[0m\u001b[0;34m=\u001b[0m\u001b[0mdriver\u001b[0m\u001b[0;34m.\u001b[0m\u001b[0mfind_elements_by_xpath\u001b[0m\u001b[0;34m(\u001b[0m\u001b[0mxpath_language\u001b[0m\u001b[0;34m)\u001b[0m\u001b[0;34m\u001b[0m\u001b[0m\n\u001b[0m\u001b[1;32m      3\u001b[0m \u001b[0mlang_button\u001b[0m\u001b[0;34m[\u001b[0m\u001b[0;36m0\u001b[0m\u001b[0;34m]\u001b[0m\u001b[0;34m.\u001b[0m\u001b[0mtext\u001b[0m\u001b[0;34m\u001b[0m\u001b[0m\n",
      "\u001b[0;31mNameError\u001b[0m: name 'driver' is not defined"
     ]
    }
   ],
   "source": [
    "xpath_language=\"//div[contains(@class,'yt-uix-menu-trigger')]\"\n",
    "lang_button=driver.find_elements_by_xpath(xpath_language)\n",
    "lang_button[0].text"
   ]
  },
  {
   "cell_type": "code",
   "execution_count": 6,
   "metadata": {},
   "outputs": [
    {
     "ename": "NameError",
     "evalue": "name 'driver' is not defined",
     "output_type": "error",
     "traceback": [
      "\u001b[0;31m---------------------------------------------------------------------------\u001b[0m",
      "\u001b[0;31mNameError\u001b[0m                                 Traceback (most recent call last)",
      "\u001b[0;32m<ipython-input-6-995cdb38c8ee>\u001b[0m in \u001b[0;36m<module>\u001b[0;34m()\u001b[0m\n\u001b[1;32m      1\u001b[0m \u001b[0mxpath_english\u001b[0m\u001b[0;34m=\u001b[0m\u001b[0;34m\"//span[contains(@class,'yt-uix-button-content transcript-lang')]\"\u001b[0m\u001b[0;34m\u001b[0m\u001b[0m\n\u001b[0;32m----> 2\u001b[0;31m \u001b[0menglish_button\u001b[0m\u001b[0;34m=\u001b[0m\u001b[0mdriver\u001b[0m\u001b[0;34m.\u001b[0m\u001b[0mfind_elements_by_xpath\u001b[0m\u001b[0;34m(\u001b[0m\u001b[0mxpath_english\u001b[0m\u001b[0;34m)\u001b[0m\u001b[0;34m\u001b[0m\u001b[0m\n\u001b[0m\u001b[1;32m      3\u001b[0m \u001b[0menglish_button\u001b[0m\u001b[0;34m[\u001b[0m\u001b[0;36m1\u001b[0m\u001b[0;34m]\u001b[0m\u001b[0;34m.\u001b[0m\u001b[0mtext\u001b[0m\u001b[0;34m\u001b[0m\u001b[0m\n",
      "\u001b[0;31mNameError\u001b[0m: name 'driver' is not defined"
     ]
    }
   ],
   "source": [
    "xpath_english=\"//span[contains(@class,'yt-uix-button-content transcript-lang')]\"\n",
    "english_button=driver.find_elements_by_xpath(xpath_english)\n",
    "english_button[1].text"
   ]
  },
  {
   "cell_type": "code",
   "execution_count": 7,
   "metadata": {},
   "outputs": [
    {
     "ename": "NameError",
     "evalue": "name 'driver' is not defined",
     "output_type": "error",
     "traceback": [
      "\u001b[0;31m---------------------------------------------------------------------------\u001b[0m",
      "\u001b[0;31mNameError\u001b[0m                                 Traceback (most recent call last)",
      "\u001b[0;32m<ipython-input-7-06a7d8d0f419>\u001b[0m in \u001b[0;36m<module>\u001b[0;34m()\u001b[0m\n\u001b[1;32m      1\u001b[0m \u001b[0mxpath_text\u001b[0m\u001b[0;34m=\u001b[0m\u001b[0;34m\"//div[contains(@class,'caption-line-text')]\"\u001b[0m\u001b[0;34m\u001b[0m\u001b[0m\n\u001b[0;32m----> 2\u001b[0;31m \u001b[0mtext\u001b[0m\u001b[0;34m=\u001b[0m\u001b[0mdriver\u001b[0m\u001b[0;34m.\u001b[0m\u001b[0mfind_elements_by_xpath\u001b[0m\u001b[0;34m(\u001b[0m\u001b[0mxpath_text\u001b[0m\u001b[0;34m)\u001b[0m\u001b[0;34m\u001b[0m\u001b[0m\n\u001b[0m",
      "\u001b[0;31mNameError\u001b[0m: name 'driver' is not defined"
     ]
    }
   ],
   "source": [
    "xpath_text=\"//div[contains(@class,'caption-line-text')]\"\n",
    "text=driver.find_elements_by_xpath(xpath_text)"
   ]
  },
  {
   "cell_type": "code",
   "execution_count": 8,
   "metadata": {},
   "outputs": [
    {
     "ename": "NameError",
     "evalue": "name 'text' is not defined",
     "output_type": "error",
     "traceback": [
      "\u001b[0;31m---------------------------------------------------------------------------\u001b[0m",
      "\u001b[0;31mNameError\u001b[0m                                 Traceback (most recent call last)",
      "\u001b[0;32m<ipython-input-8-d32ff83e2bac>\u001b[0m in \u001b[0;36m<module>\u001b[0;34m()\u001b[0m\n\u001b[0;32m----> 1\u001b[0;31m \u001b[0mtext\u001b[0m\u001b[0;34m[\u001b[0m\u001b[0;36m1\u001b[0m\u001b[0;34m]\u001b[0m\u001b[0;34m.\u001b[0m\u001b[0mtext\u001b[0m\u001b[0;34m\u001b[0m\u001b[0m\n\u001b[0m",
      "\u001b[0;31mNameError\u001b[0m: name 'text' is not defined"
     ]
    }
   ],
   "source": [
    "text[1].text"
   ]
  },
  {
   "cell_type": "code",
   "execution_count": 9,
   "metadata": {
    "collapsed": true
   },
   "outputs": [],
   "source": [
    "def youtube_transcript_scraper(url):\n",
    "    \"\"\"This function scrapes a single transcript from a youtube\n",
    "    video, along with associated metadata and returns a transcript\"\"\"\n",
    "    driver.get(url)\n",
    "    time.sleep(np.random.randint(1,8,1)[0])\n",
    "    \n",
    "    #Click on more button\n",
    "    xpath_more=\"//div[contains(@class,'yt-uix-menu')]\"\n",
    "    more_button=driver.find_elements_by_xpath(xpath_more)\n",
    "    more_button[0].click()\n",
    "    time.sleep(1)\n",
    "    # Click on transcript button\n",
    "    xpath_transcript=\"//span[contains(@class,'yt-ui-menu-item-label')]\"\n",
    "    transcript_button=driver.find_elements_by_xpath(xpath_transcript)\n",
    "    transcript_button[-3].click()\n",
    "    time.sleep(1)\n",
    "    # Click on language button and select\n",
    "    xpath_language=\"//div[contains(@class,'yt-uix-menu-trigger')]\"\n",
    "    lang_button=driver.find_elements_by_xpath(xpath_language)\n",
    "    try: \n",
    "        lang_button[0].click()\n",
    "        time.sleep(1)\n",
    "        # Click the language sub category\n",
    "        xpath_english=\"//span[contains(@class,'yt-uix-button-content transcript-lang')]\"\n",
    "        english_button=driver.find_elements_by_xpath(xpath_english)\n",
    "        english_button[1].click()\n",
    "        time.sleep(1)\n",
    "        # Get the text from the transcript\n",
    "        xpath_text=\"//div[contains(@class,'caption-line-text')]\"\n",
    "        text=driver.find_elements_by_xpath(xpath_text)\n",
    "        # Put transcript into a list\n",
    "        transcript=[]\n",
    "        print (text[1].text)\n",
    "        for line in text:\n",
    "            transcript += line.text.split()\n",
    "    except:\n",
    "        transcript=[]\n",
    "        print('error with:',url)\n",
    "    \n",
    "\n",
    "    \n",
    "    # scrape the title the video\n",
    "    xpath_title=\"//span[contains(@class,'watch-title')]\"\n",
    "    video_title=driver.find_elements_by_xpath(xpath_title)\n",
    "    video_title=video_title[0].text\n",
    "    \n",
    "    # Scrape description\n",
    "    xpath_description=\"//p[contains(@id,'eow-description')]\"\n",
    "    description=driver.find_elements_by_xpath(xpath_description)\n",
    "    description=description[0].text\n",
    "    \n",
    "    # Scrape number of views\n",
    "    xpath_views=\"//div[contains(@class,'watch-view-count')]\"\n",
    "    views=driver.find_elements_by_xpath(xpath_views)\n",
    "    views=int(''.join(re.findall('[0-9]+',views[0].text)))\n",
    "    \n",
    "    # Create a dictionary with the content\n",
    "    transcript_dict = dict()\n",
    "    transcript_dict = {\n",
    "                        'title': video_title,\n",
    "                        'views': views,\n",
    "                        'description': description,\n",
    "                        'transcript': transcript\n",
    "                        }\n",
    "    return transcript_dict,video_title"
   ]
  },
  {
   "cell_type": "code",
   "execution_count": 10,
   "metadata": {
    "collapsed": true
   },
   "outputs": [],
   "source": [
    "def video_looper(playlist, store_dir):\n",
    "    for link in playlist:\n",
    "        transcript_dict,video_title = youtube_transcript_scraper(link)\n",
    "        filename = ''.join(re.findall('[a-z0-9_]+',video_title.replace(' ','_').lower())) + '.json'\n",
    "        file_path = store_dir + filename\n",
    "        with open(file_path, 'w') as fp:\n",
    "            json.dump(transcript_dict, fp)\n",
    "    "
   ]
  },
  {
   "cell_type": "code",
   "execution_count": 11,
   "metadata": {
    "collapsed": true
   },
   "outputs": [],
   "source": [
    "def playlist_links(playlist_url):\n",
    "    driver.get(playlist_url)\n",
    "    #time.sleep(25)\n",
    "    \n",
    "    # Title of playlist\n",
    "    xpath_playlist_title=\"//h1[contains(@class,'pl-header-title')]\"\n",
    "    playlist_title=driver.find_elements_by_xpath(xpath_playlist_title)\n",
    "    playlist_title = playlist_title[0].text.replace(' ','_').lower()\n",
    "    playlist_title = ''.join(re.findall('[a-z0-9_]+',playlist_title))\n",
    "    \n",
    "    # Get all links from playlist up to 100\n",
    "    xpath_links=\"//td[contains(@class,'pl-video-thumbnail')]//a\"\n",
    "    links=driver.find_elements_by_xpath(xpath_links)\n",
    "    links_list = [link.get_attribute('href') for link in links]\n",
    "    \n",
    "    # create directory for storing\n",
    "    base_dir = 'youtube/'\n",
    "    # Make directory if it does not exist in the text folder\n",
    "    store_dir = base_dir+playlist_title+'/'\n",
    "    if not os.path.exists(store_dir):\n",
    "        os.makedirs(store_dir)\n",
    "    \n",
    "    # Run video looper to loop through the list of video links\n",
    "    video_looper(links_list, store_dir)"
   ]
  },
  {
   "cell_type": "code",
   "execution_count": 12,
   "metadata": {
    "collapsed": true
   },
   "outputs": [],
   "source": [
    "def multiple_playlist(list_of_playlists):\n",
    "    for playlist_url in list_of_playlists:\n",
    "        playlist_links(playlist_url) "
   ]
  },
  {
   "cell_type": "code",
   "execution_count": 13,
   "metadata": {
    "collapsed": true
   },
   "outputs": [],
   "source": [
    "list_of_playlists_first = ['https://www.youtube.com/playlist?list=PLD63A284B7615313A',\n",
    "                            'https://www.youtube.com/playlist?list=PLA89DCFA6ADACE599',\n",
    "                          'https://www.youtube.com/playlist?list=PLnvKubj2-I2LhIibS8TOGC42xsD3-liux',\n",
    "                          'https://www.youtube.com/playlist?list=PL2SOU6wwxB0uwwH80KTQ6ht66KWxbzTIo',\n",
    "                          'https://www.youtube.com/playlist?list=PLA89DCFA6ADACE599',\n",
    "                          \"https://www.youtube.com/playlist?list=PL3FW7Lu3i5Jsnh1rnUwq_TcylNr7EkRe6\",\n",
    "                           'https://www.youtube.com/playlist?list=PLE7DDD91010BC51F8',\n",
    "                           \"https://www.youtube.com/playlist?list=PL16j5WbGpaM0_Tj8CRmurZ8Kk1gEBc7fg\",\n",
    "                           'https://www.youtube.com/playlist?list=PLrAXtmErZgOeiKm4sgNOknGvNjby9efdf',\n",
    "                           'https://www.youtube.com/playlist?list=PLkkuNyzb8LmxFutYuPA7B4oiMn6cjD6Rs',\n",
    "                           'https://www.youtube.com/playlist?list=PLA9E0359014169D37',\n",
    "                           'https://www.youtube.com/playlist?list=PLUl4u3cNGP61Oq3tWYp6V_F-5jb5L2iHb',\n",
    "                           'https://www.youtube.com/playlist?list=PLoRl3Ht4JOcdU872GhiYWf6jwrk_SNhz9'\n",
    "                           \n",
    "                          ]"
   ]
  },
  {
   "cell_type": "code",
   "execution_count": 46,
   "metadata": {},
   "outputs": [],
   "source": [
    "list_of_playlists = []\n",
    "                    "
   ]
  },
  {
   "cell_type": "markdown",
   "metadata": {},
   "source": [
    "\n",
    " deep learning\n",
    " intro to deep\n",
    "\"https://www.youtube.com/playlist?list=PLZHQObOWTQDPD3MizzM2xVFitgF8hE_ab\" essence of line\n",
    "\n",
    "\n",
    "Not working, no transcript:\n",
    "    'https://www.youtube.com/playlist?list=PL2SOU6wwxB0v1kQTpqpuu5kEJo2i-iUyf'\n",
    "    'https://www.youtube.com/playlist?list=PLCJlDcMjVoEdtem5GaohTC1o9HTTFtK7_'\n",
    "    'https://www.youtube.com/playlist?list=PL1328115D3D8A2566' Khan arabic"
   ]
  },
  {
   "cell_type": "code",
   "execution_count": 47,
   "metadata": {},
   "outputs": [],
   "source": [
    "chromedriver = \"/Applications/chromedriver\"\n",
    "os.environ[\"webdriver.chrome.driver\"] = chromedriver\n",
    "driver = webdriver.Chrome(chromedriver)"
   ]
  },
  {
   "cell_type": "code",
   "execution_count": 48,
   "metadata": {},
   "outputs": [
    {
     "name": "stdout",
     "output_type": "stream",
     "text": [
      "introduce you to neural networks they're\n",
      "video on neural networks so this is a\n",
      "computer set up to run some code so the\n",
      "our computer in this video we're going\n",
      "introduce you to something called a cost\n",
      "to look at finding the slope of our cost\n",
      "error with: https://www.youtube.com/watch?v=EnGmg-kvpYs&index=7&list=PLxt59R_fWVzT9bDxA76AHm3ig0Gg9S3So\n",
      "going to look at something called linear\n",
      "to derive the cost function for linear\n",
      "going to find the best parameters W and\n",
      "solve the original problem we started\n"
     ]
    },
    {
     "ename": "IndexError",
     "evalue": "list index out of range",
     "output_type": "error",
     "traceback": [
      "\u001b[0;31m---------------------------------------------------------------------------\u001b[0m",
      "\u001b[0;31mIndexError\u001b[0m                                Traceback (most recent call last)",
      "\u001b[0;32m<ipython-input-48-58053366679e>\u001b[0m in \u001b[0;36m<module>\u001b[0;34m()\u001b[0m\n\u001b[0;32m----> 1\u001b[0;31m \u001b[0mmultiple_playlist\u001b[0m\u001b[0;34m(\u001b[0m\u001b[0mlist_of_playlists\u001b[0m\u001b[0;34m)\u001b[0m\u001b[0;34m\u001b[0m\u001b[0m\n\u001b[0m",
      "\u001b[0;32m<ipython-input-12-37c0915b62d3>\u001b[0m in \u001b[0;36mmultiple_playlist\u001b[0;34m(list_of_playlists)\u001b[0m\n\u001b[1;32m      1\u001b[0m \u001b[0;32mdef\u001b[0m \u001b[0mmultiple_playlist\u001b[0m\u001b[0;34m(\u001b[0m\u001b[0mlist_of_playlists\u001b[0m\u001b[0;34m)\u001b[0m\u001b[0;34m:\u001b[0m\u001b[0;34m\u001b[0m\u001b[0m\n\u001b[1;32m      2\u001b[0m     \u001b[0;32mfor\u001b[0m \u001b[0mplaylist_url\u001b[0m \u001b[0;32min\u001b[0m \u001b[0mlist_of_playlists\u001b[0m\u001b[0;34m:\u001b[0m\u001b[0;34m\u001b[0m\u001b[0m\n\u001b[0;32m----> 3\u001b[0;31m         \u001b[0mplaylist_links\u001b[0m\u001b[0;34m(\u001b[0m\u001b[0mplaylist_url\u001b[0m\u001b[0;34m)\u001b[0m\u001b[0;34m\u001b[0m\u001b[0m\n\u001b[0m",
      "\u001b[0;32m<ipython-input-11-4e325fff114f>\u001b[0m in \u001b[0;36mplaylist_links\u001b[0;34m(playlist_url)\u001b[0m\n\u001b[1;32m     22\u001b[0m \u001b[0;34m\u001b[0m\u001b[0m\n\u001b[1;32m     23\u001b[0m     \u001b[0;31m# Run video looper to loop through the list of video links\u001b[0m\u001b[0;34m\u001b[0m\u001b[0;34m\u001b[0m\u001b[0m\n\u001b[0;32m---> 24\u001b[0;31m     \u001b[0mvideo_looper\u001b[0m\u001b[0;34m(\u001b[0m\u001b[0mlinks_list\u001b[0m\u001b[0;34m,\u001b[0m \u001b[0mstore_dir\u001b[0m\u001b[0;34m)\u001b[0m\u001b[0;34m\u001b[0m\u001b[0m\n\u001b[0m",
      "\u001b[0;32m<ipython-input-10-75c7b18a45d0>\u001b[0m in \u001b[0;36mvideo_looper\u001b[0;34m(playlist, store_dir)\u001b[0m\n\u001b[1;32m      1\u001b[0m \u001b[0;32mdef\u001b[0m \u001b[0mvideo_looper\u001b[0m\u001b[0;34m(\u001b[0m\u001b[0mplaylist\u001b[0m\u001b[0;34m,\u001b[0m \u001b[0mstore_dir\u001b[0m\u001b[0;34m)\u001b[0m\u001b[0;34m:\u001b[0m\u001b[0;34m\u001b[0m\u001b[0m\n\u001b[1;32m      2\u001b[0m     \u001b[0;32mfor\u001b[0m \u001b[0mlink\u001b[0m \u001b[0;32min\u001b[0m \u001b[0mplaylist\u001b[0m\u001b[0;34m:\u001b[0m\u001b[0;34m\u001b[0m\u001b[0m\n\u001b[0;32m----> 3\u001b[0;31m         \u001b[0mtranscript_dict\u001b[0m\u001b[0;34m,\u001b[0m\u001b[0mvideo_title\u001b[0m \u001b[0;34m=\u001b[0m \u001b[0myoutube_transcript_scraper\u001b[0m\u001b[0;34m(\u001b[0m\u001b[0mlink\u001b[0m\u001b[0;34m)\u001b[0m\u001b[0;34m\u001b[0m\u001b[0m\n\u001b[0m\u001b[1;32m      4\u001b[0m         \u001b[0mfilename\u001b[0m \u001b[0;34m=\u001b[0m \u001b[0;34m''\u001b[0m\u001b[0;34m.\u001b[0m\u001b[0mjoin\u001b[0m\u001b[0;34m(\u001b[0m\u001b[0mre\u001b[0m\u001b[0;34m.\u001b[0m\u001b[0mfindall\u001b[0m\u001b[0;34m(\u001b[0m\u001b[0;34m'[a-z0-9_]+'\u001b[0m\u001b[0;34m,\u001b[0m\u001b[0mvideo_title\u001b[0m\u001b[0;34m.\u001b[0m\u001b[0mreplace\u001b[0m\u001b[0;34m(\u001b[0m\u001b[0;34m' '\u001b[0m\u001b[0;34m,\u001b[0m\u001b[0;34m'_'\u001b[0m\u001b[0;34m)\u001b[0m\u001b[0;34m.\u001b[0m\u001b[0mlower\u001b[0m\u001b[0;34m(\u001b[0m\u001b[0;34m)\u001b[0m\u001b[0;34m)\u001b[0m\u001b[0;34m)\u001b[0m \u001b[0;34m+\u001b[0m \u001b[0;34m'.json'\u001b[0m\u001b[0;34m\u001b[0m\u001b[0m\n\u001b[1;32m      5\u001b[0m         \u001b[0mfile_path\u001b[0m \u001b[0;34m=\u001b[0m \u001b[0mstore_dir\u001b[0m \u001b[0;34m+\u001b[0m \u001b[0mfilename\u001b[0m\u001b[0;34m\u001b[0m\u001b[0m\n",
      "\u001b[0;32m<ipython-input-9-0709086e5495>\u001b[0m in \u001b[0;36myoutube_transcript_scraper\u001b[0;34m(url)\u001b[0m\n\u001b[1;32m      8\u001b[0m     \u001b[0mxpath_more\u001b[0m\u001b[0;34m=\u001b[0m\u001b[0;34m\"//div[contains(@class,'yt-uix-menu')]\"\u001b[0m\u001b[0;34m\u001b[0m\u001b[0m\n\u001b[1;32m      9\u001b[0m     \u001b[0mmore_button\u001b[0m\u001b[0;34m=\u001b[0m\u001b[0mdriver\u001b[0m\u001b[0;34m.\u001b[0m\u001b[0mfind_elements_by_xpath\u001b[0m\u001b[0;34m(\u001b[0m\u001b[0mxpath_more\u001b[0m\u001b[0;34m)\u001b[0m\u001b[0;34m\u001b[0m\u001b[0m\n\u001b[0;32m---> 10\u001b[0;31m     \u001b[0mmore_button\u001b[0m\u001b[0;34m[\u001b[0m\u001b[0;36m0\u001b[0m\u001b[0;34m]\u001b[0m\u001b[0;34m.\u001b[0m\u001b[0mclick\u001b[0m\u001b[0;34m(\u001b[0m\u001b[0;34m)\u001b[0m\u001b[0;34m\u001b[0m\u001b[0m\n\u001b[0m\u001b[1;32m     11\u001b[0m     \u001b[0mtime\u001b[0m\u001b[0;34m.\u001b[0m\u001b[0msleep\u001b[0m\u001b[0;34m(\u001b[0m\u001b[0;36m1\u001b[0m\u001b[0;34m)\u001b[0m\u001b[0;34m\u001b[0m\u001b[0m\n\u001b[1;32m     12\u001b[0m     \u001b[0;31m# Click on transcript button\u001b[0m\u001b[0;34m\u001b[0m\u001b[0;34m\u001b[0m\u001b[0m\n",
      "\u001b[0;31mIndexError\u001b[0m: list index out of range"
     ]
    }
   ],
   "source": [
    "multiple_playlist(list_of_playlists)"
   ]
  },
  {
   "cell_type": "code",
   "execution_count": null,
   "metadata": {
    "collapsed": true
   },
   "outputs": [],
   "source": [
    "driver.close()"
   ]
  }
 ],
 "metadata": {
  "kernelspec": {
   "display_name": "Python 3",
   "language": "python",
   "name": "python3"
  },
  "language_info": {
   "codemirror_mode": {
    "name": "ipython",
    "version": 3
   },
   "file_extension": ".py",
   "mimetype": "text/x-python",
   "name": "python",
   "nbconvert_exporter": "python",
   "pygments_lexer": "ipython3",
   "version": "3.6.1"
  }
 },
 "nbformat": 4,
 "nbformat_minor": 2
}
